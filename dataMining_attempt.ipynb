{
 "cells": [
  {
   "cell_type": "code",
   "execution_count": 208,
   "metadata": {},
   "outputs": [],
   "source": [
    "import praw\n",
    "import json\n",
    "import re\n",
    "from praw.models import MoreComments"
   ]
  },
  {
   "cell_type": "code",
   "execution_count": 209,
   "metadata": {},
   "outputs": [],
   "source": [
    "file = open('reddit_info.json')\n",
    "info = json.load(file)"
   ]
  },
  {
   "cell_type": "code",
   "execution_count": 210,
   "metadata": {},
   "outputs": [],
   "source": [
    "#API Setup\n",
    "def create_reddit_object():\n",
    "    reddit = praw.Reddit(client_id = info[0]['client_id'],\n",
    "                        client_secret = info[0]['client_secret'],\n",
    "                        user_agent = info[0]['user_agent'],\n",
    "                        #username & password is optional if you are only looking at public comments\n",
    "                        username = info[0]['username'],\n",
    "                        password = info[0]['password'])\n",
    "    return reddit"
   ]
  },
  {
   "cell_type": "code",
   "execution_count": 333,
   "metadata": {},
   "outputs": [
    {
     "name": "stdout",
     "output_type": "stream",
     "text": [
      "['zelda', 'kirby', 'pokemon', 'metroid', 'sonic', 'pikmin', 'f-zero', 'persona', 'uncharted', 'halo', 'castlevania', 'spyro', 'doom', 'bioshock', 'fallout', 'gta']\n",
      "['super mario', 'mega man', 'animal crossing', 'fire emblem', 'golden sun', 'donkey kong', 'advance wars', 'xenoblade chronicles', 'sly cooper', 'final fantasy', 'resident evil', 'silent hill', 'street fighter', 'mortal kombat', 'crash bandicoot', 'metal gear', 'kingdom hearts', 'monster hunter', 'dark souls']\n",
      "['ratchet and clank', 'jak and daxter', 'god of war', 'gears of war', 'devil may cry']\n"
     ]
    }
   ],
   "source": [
    "#Names of the video games to look for\n",
    "video_games = ['super mario', 'zelda', 'kirby', 'pokemon', 'metroid', 'sonic', 'mega man', 'animal crossing',\n",
    "              'pikmin', 'fire emblem', 'f-zero', 'golden sun', 'donkey kong', 'advance wars', 'xenoblade chronicles',\n",
    "              'ratchet and clank', 'jak and daxter', 'sly cooper', 'god of war', 'persona', 'final fantasy',\n",
    "              'resident evil', 'silent hill', 'uncharted', 'halo', 'street fighter', 'mortal kombat', 'gears of war',\n",
    "              'devil may cry', 'castlevania', 'crash bandicoot', 'spyro', 'metal gear', 'doom', 'bioshock', 'kingdom hearts',\n",
    "              'fallout', 'monster hunter', 'gta', 'dark souls']\n",
    "\n",
    "single_word_games = []\n",
    "double_word_games = []\n",
    "triple_word_games = []\n",
    "\n",
    "space_count = 0\n",
    "for game in video_games:\n",
    "    for letter in game:\n",
    "        if letter == ' ':\n",
    "            space_count += 1\n",
    "    if space_count == 0:\n",
    "        single_word_games.append(game)\n",
    "    elif space_count == 1:\n",
    "        double_word_games.append(game)\n",
    "    elif space_count == 2:\n",
    "        triple_word_games.append(game)\n",
    "    \n",
    "    space_count = 0\n",
    "        \n",
    "print(single_word_games)\n",
    "print(double_word_games)\n",
    "print(triple_word_games)\n",
    "        \n",
    "\n",
    "#Setting up word finding\n",
    "pattern = re.compile(r'(\\w+ \\w+)|(\\w+)')\n",
    "pattern_groups = [re.compile(r'super mario'),\n",
    "                 re.compile(r'zelda')]\n",
    "matches = pattern.finditer(comment.body)"
   ]
  },
  {
   "cell_type": "code",
   "execution_count": 214,
   "metadata": {},
   "outputs": [
    {
     "name": "stdout",
     "output_type": "stream",
     "text": [
      "15026\n"
     ]
    }
   ],
   "source": [
    "#sets up reddit obj, url to go through\n",
    "reddit = create_reddit_object()\n",
    "url = \"https://www.reddit.com/r/gaming/comments/obysq4/pokemon_gta_and_halo/\"\n",
    "submission = reddit.submission(url=url)\n",
    "comments = []\n",
    "\n",
    "#This next code takes ages to run. There's about 15,000 comments to gather\n",
    "submission.comments.replace_more(limit=None)\n",
    "comments = submission.comments.list()\n",
    "\n",
    "print(len(comments))\n"
   ]
  },
  {
   "cell_type": "code",
   "execution_count": 346,
   "metadata": {},
   "outputs": [
    {
     "name": "stdout",
     "output_type": "stream",
     "text": [
      "{'super mario': 474, 'zelda': 1409, 'kirby': 118, 'pokemon': 963, 'metroid': 224, 'sonic': 133, 'mega man': 53, 'animal crossing': 83, 'pikmin': 72, 'fire emblem': 118, 'f-zero': 29, 'golden sun': 148, 'donkey kong': 45, 'advance wars': 44, 'xenoblade chronicles': 22, 'ratchet and clank': 122, 'jak and daxter': 65, 'sly cooper': 124, 'god of war': 213, 'persona': 192, 'final fantasy': 490, 'resident evil': 174, 'silent hill': 64, 'uncharted': 98, 'halo': 747, 'street fighter': 65, 'mortal kombat': 106, 'gears of war': 50, 'devil may cry': 49, 'castlevania': 55, 'crash bandicoot': 46, 'spyro': 95, 'metal gear': 213, 'doom': 376, 'bioshock': 224, 'kingdom hearts': 167, 'fallout': 612, 'monster hunter': 263, 'gta': 530, 'dark souls': 730}\n"
     ]
    }
   ],
   "source": [
    "#Setting up dictionary\n",
    "video_games_count = dict()\n",
    "for game in video_games:\n",
    "    video_games_count[game] = 1\n",
    "\n",
    "#trying something\n",
    "\n",
    "def match_confirm(match, comment):\n",
    "    if match != None:\n",
    "        span = list(match.span())\n",
    "        idx1 = span[0]\n",
    "        idx2 = span[1]\n",
    "        return(comment[idx1:idx2])\n",
    "\n",
    "\n",
    "for comment in comments:\n",
    "    body = comment.body.lower()\n",
    "    for i in range(len(single_word_games)):\n",
    "        match = re.match(single_word_games[i], body)\n",
    "        game = match_confirm(match, body)\n",
    "        if isinstance(game, str):\n",
    "            video_games_count[game] += 1 \n",
    "            \n",
    "    for i in range(len(double_word_games)):\n",
    "        match = re.match(double_word_games[i], body)\n",
    "        game = match_confirm(match, body)\n",
    "        if isinstance(game, str):\n",
    "            video_games_count[game] += 1 \n",
    "            \n",
    "    for i in range(len(triple_word_games)):\n",
    "        match = re.match(triple_word_games[i], body)\n",
    "        game = match_confirm(match, body)\n",
    "        if isinstance(game, str):\n",
    "            video_games_count[game] += 1 \n",
    "\n",
    "print(video_games_count)"
   ]
  },
  {
   "cell_type": "code",
   "execution_count": 350,
   "metadata": {},
   "outputs": [
    {
     "name": "stdout",
     "output_type": "stream",
     "text": [
      "Total comments scanned:  15026\n",
      "Total video games found:  9805\n",
      "\n",
      "zelda : 1409\n",
      "pokemon : 963\n",
      "halo : 747\n",
      "dark souls : 730\n",
      "fallout : 612\n",
      "gta : 530\n",
      "final fantasy : 490\n",
      "super mario : 474\n",
      "doom : 376\n",
      "monster hunter : 263\n",
      "metroid : 224\n",
      "bioshock : 224\n",
      "god of war : 213\n",
      "metal gear : 213\n",
      "persona : 192\n",
      "resident evil : 174\n",
      "kingdom hearts : 167\n",
      "golden sun : 148\n",
      "sonic : 133\n",
      "sly cooper : 124\n",
      "ratchet and clank : 122\n",
      "kirby : 118\n",
      "fire emblem : 118\n",
      "mortal kombat : 106\n",
      "uncharted : 98\n",
      "spyro : 95\n",
      "animal crossing : 83\n",
      "pikmin : 72\n",
      "jak and daxter : 65\n",
      "street fighter : 65\n",
      "silent hill : 64\n",
      "castlevania : 55\n",
      "mega man : 53\n",
      "gears of war : 50\n",
      "devil may cry : 49\n",
      "crash bandicoot : 46\n",
      "donkey kong : 45\n",
      "advance wars : 44\n",
      "f-zero : 29\n",
      "xenoblade chronicles : 22\n"
     ]
    }
   ],
   "source": [
    "#Sorts dictionary\n",
    "sorted_dict = {}\n",
    "sorted_keys = sorted(video_games_count)  # [1, 3, 2]\n",
    "\n",
    "video_games_count = dict(sorted(video_games_count.items(), key=lambda item: item[1], reverse=True))\n",
    "\n",
    "game_count = 0\n",
    "for key in video_games_count:\n",
    "    game_count += video_games_count[key]\n",
    "\n",
    "\n",
    "print('Total comments scanned: ', len(comments))\n",
    "print('Total video games found: ', game_count, end='\\n\\n')\n",
    "\n",
    "for key in video_games_count:\n",
    "    print(f'{key} : {video_games_count[key]}')"
   ]
  },
  {
   "cell_type": "code",
   "execution_count": null,
   "metadata": {},
   "outputs": [],
   "source": []
  },
  {
   "cell_type": "code",
   "execution_count": null,
   "metadata": {},
   "outputs": [],
   "source": []
  }
 ],
 "metadata": {
  "kernelspec": {
   "display_name": "Python 3",
   "language": "python",
   "name": "python3"
  },
  "language_info": {
   "codemirror_mode": {
    "name": "ipython",
    "version": 3
   },
   "file_extension": ".py",
   "mimetype": "text/x-python",
   "name": "python",
   "nbconvert_exporter": "python",
   "pygments_lexer": "ipython3",
   "version": "3.8.3"
  }
 },
 "nbformat": 4,
 "nbformat_minor": 4
}
