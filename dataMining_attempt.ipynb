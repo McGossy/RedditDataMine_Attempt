{
 "cells": [
  {
   "cell_type": "code",
   "execution_count": 107,
   "metadata": {},
   "outputs": [],
   "source": [
    "import praw\n",
    "import json\n",
    "import re\n",
    "from praw.models import MoreComments"
   ]
  },
  {
   "cell_type": "code",
   "execution_count": 108,
   "metadata": {},
   "outputs": [],
   "source": [
    "file = open('reddit_info.json')\n",
    "info = json.load(file)"
   ]
  },
  {
   "cell_type": "code",
   "execution_count": 109,
   "metadata": {},
   "outputs": [],
   "source": [
    "#API Setup\n",
    "def create_reddit_object():\n",
    "    reddit = praw.Reddit(client_id = info[0]['client_id'],\n",
    "                        client_secret = info[0]['client_secret'],\n",
    "                        user_agent = info[0]['user_agent'],\n",
    "                        #username & password is optional if you are only looking at public comments\n",
    "                        username = info[0]['username'],\n",
    "                        password = info[0]['password'])\n",
    "    return reddit"
   ]
  },
  {
   "cell_type": "code",
   "execution_count": 160,
   "metadata": {},
   "outputs": [],
   "source": [
    "#Names of the video games to look for\n",
    "video_games = ['super mario', 'zelda', 'kirby', 'pokemon', 'metroid', 'sonic', 'mega man', 'animal crossing',\n",
    "              'pikmin', 'fire emblem', 'f-zero', 'golden sun', 'donkey kong', 'advance wars', 'xenoblade chronicles',\n",
    "              'ratchet and clank', 'jak and daxter', 'sly cooper', 'god of war', 'persona', 'final fantasy',\n",
    "              'resident evil', 'silent hill', 'uncharted', 'halo', 'street fighter', 'mortal kombat', 'gears of war',\n",
    "              'devil may cry', 'castlevania', 'crash bandicoot', 'spyro', 'metal gear', 'doom', 'bioshock', 'kingdom hearts',\n",
    "              'fallout', 'monster hunter', 'gta', 'dark souls']\n",
    "\n",
    "#Setting up word finding\n",
    "pattern = re.compile(r'(\\w+ \\w+)|(\\w+)')\n",
    "unique_words = dict()\n",
    "matches = pattern.finditer(comment.body)"
   ]
  },
  {
   "cell_type": "code",
   "execution_count": 125,
   "metadata": {},
   "outputs": [
    {
     "name": "stdout",
     "output_type": "stream",
     "text": [
      "15031\n"
     ]
    }
   ],
   "source": [
    "#sets up reddit obj, url to go through\n",
    "reddit = create_reddit_object()\n",
    "url = \"https://www.reddit.com/r/gaming/comments/obysq4/pokemon_gta_and_halo/\"\n",
    "submission = reddit.submission(url=url)\n",
    "comments = []\n",
    "\n",
    "#This next code takes ages to run. There's about 15,000 comments to gather\n",
    "submission.comments.replace_more(limit=None)\n",
    "comments = submission.comments.list()\n",
    "\n",
    "print(len(comments))\n"
   ]
  },
  {
   "cell_type": "code",
   "execution_count": 194,
   "metadata": {},
   "outputs": [
    {
     "name": "stdout",
     "output_type": "stream",
     "text": [
      "\n",
      "\n",
      "ALL WORDS FOUND W/ COUNT\n",
      "gta : 1488\n",
      "fallout : 1256\n",
      "dark souls : 1112\n",
      "halo : 1100\n",
      "zelda : 914\n",
      "pokemon : 698\n",
      "final fantasy : 672\n",
      "doom : 542\n",
      "bioshock : 498\n",
      "monster hunter : 406\n",
      "super mario : 390\n",
      "resident evil : 360\n",
      "animal crossing : 326\n",
      "uncharted : 322\n",
      "kingdom hearts : 306\n",
      "persona : 300\n",
      "metroid : 276\n",
      "metal gear : 232\n",
      "fire emblem : 228\n",
      "mortal kombat : 222\n",
      "spyro : 180\n",
      "street fighter : 162\n",
      "sonic : 154\n",
      "kirby : 146\n",
      "castlevania : 144\n",
      "golden sun : 136\n",
      "silent hill : 136\n",
      "sly cooper : 128\n",
      "crash bandicoot : 120\n",
      "donkey kong : 116\n",
      "pikmin : 100\n",
      "advance wars : 92\n",
      "mega man : 60\n",
      "xenoblade chronicles : 36\n",
      "day : 15031\n",
      "\n",
      "\n",
      "Total Comments checked:  15031\n"
     ]
    }
   ],
   "source": [
    "#gets all parent ids\n",
    "for comment in comments:\n",
    "    #finding word patterns\n",
    "    if isinstance(comment, MoreComments):\n",
    "        continue\n",
    "    matches = pattern.finditer(comment.body)\n",
    "    mu = match.group().lower()\n",
    "    if mu not in unique_words and len(match.group()) > 2:\n",
    "        unique_words[mu] = 1\n",
    "    else:\n",
    "        try:\n",
    "            unique_words[mu] += 1\n",
    "        except:\n",
    "            continue\n",
    "\n",
    "#Printing all the words found and their count\n",
    "print(\"\\n\\nALL WORDS FOUND W/ COUNT\")\n",
    "for word in unique_words:\n",
    "    print(word, ':', unique_words[word])\n",
    "                    \n",
    "print('\\n\\nTotal Comments checked: ', len(comments))"
   ]
  },
  {
   "cell_type": "code",
   "execution_count": 195,
   "metadata": {},
   "outputs": [
    {
     "name": "stdout",
     "output_type": "stream",
     "text": [
      "Comments scanned =  45093\n",
      "{'gta': 1488, 'fallout': 1256, 'dark souls': 1112, 'halo': 1100, 'zelda': 914, 'pokemon': 698, 'final fantasy': 672, 'doom': 542, 'bioshock': 498, 'monster hunter': 406, 'super mario': 390, 'resident evil': 360, 'animal crossing': 326, 'uncharted': 322, 'kingdom hearts': 306, 'persona': 300, 'metroid': 276, 'metal gear': 232, 'fire emblem': 228, 'mortal kombat': 222, 'spyro': 180, 'street fighter': 162, 'sonic': 154, 'kirby': 146, 'castlevania': 144, 'golden sun': 136, 'silent hill': 136, 'sly cooper': 128, 'crash bandicoot': 120, 'donkey kong': 116, 'pikmin': 100, 'advance wars': 92, 'mega man': 60, 'xenoblade chronicles': 36}\n"
     ]
    }
   ],
   "source": [
    "dict1 = {1: 1, 2: 9, 3: 4}\n",
    "sorted_dict = {}\n",
    "sorted_keys = sorted(unique_words)  # [1, 3, 2]\n",
    "\n",
    "unique_words = dict(sorted(unique_words.items(), key=lambda item: item[1], reverse=True))\n",
    "\n",
    "print(\"Comments scanned = \", total_comments)\n",
    "\n",
    "#Getting rid of everything that's not in the video game list\n",
    "keys_to_delete = []\n",
    "for key in unique_words:\n",
    "    if key not in video_games:\n",
    "        keys_to_delete.append(key)\n",
    "        \n",
    "for key in keys_to_delete:\n",
    "    del unique_words[key]\n",
    "print(unique_words)"
   ]
  },
  {
   "cell_type": "code",
   "execution_count": null,
   "metadata": {},
   "outputs": [],
   "source": []
  },
  {
   "cell_type": "code",
   "execution_count": null,
   "metadata": {},
   "outputs": [],
   "source": []
  }
 ],
 "metadata": {
  "kernelspec": {
   "display_name": "Python 3",
   "language": "python",
   "name": "python3"
  },
  "language_info": {
   "codemirror_mode": {
    "name": "ipython",
    "version": 3
   },
   "file_extension": ".py",
   "mimetype": "text/x-python",
   "name": "python",
   "nbconvert_exporter": "python",
   "pygments_lexer": "ipython3",
   "version": "3.8.3"
  }
 },
 "nbformat": 4,
 "nbformat_minor": 4
}
